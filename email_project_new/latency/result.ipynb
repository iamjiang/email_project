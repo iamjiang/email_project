{
 "cells": [
  {
   "cell_type": "code",
   "execution_count": null,
   "id": "e179a937-13fc-4270-8432-f1d0f49f8578",
   "metadata": {},
   "outputs": [],
   "source": [
    "import os\n",
    "import pandas as pd\n",
    "pd.options.mode.chained_assignment=None\n",
    "from tqdm.auto import tqdm\n",
    "tqdm.pandas(position=0,leave=True)\n",
    "from sklearn import metrics\n",
    "from sklearn.metrics import classification_report, confusion_matrix\n",
    "import matplotlib.pyplot as plt\n",
    "import numpy as np\n",
    "from sklearn import metrics"
   ]
  },
  {
   "cell_type": "code",
   "execution_count": null,
   "id": "6cae50e8-6f64-48a6-8424-29a390ccf2a7",
   "metadata": {},
   "outputs": [],
   "source": [
    "table_name=\"latency_throughput.txt\"\n",
    "Model_Type=[]\n",
    "latency=[]\n",
    "throughput=[]\n",
    "duration=[]\n",
    "device=[]\n",
    "\n",
    "with open(os.path.join(os.getcwd(),\"tfidf\",table_name),'r') as f:\n",
    "    for line in f:\n",
    "        Model_Type.append(str(line.split(\",\")[0]))\n",
    "        latency.append(float(line.split(\",\")[1]))\n",
    "        throughput.append(float(line.split(\",\")[2]))\n",
    "        duration.append(float(line.split(\",\")[3]))\n",
    "        device.append(str(line.split(\",\")[4]))\n",
    "table_v1=pd.DataFrame({\"model_name\":Model_Type,\"time(second) per email\":latency,\\\n",
    "                    \"# of email per second\":throughput,\"duration\":duration,\"device\":device})\n",
    "table_v1=table_v1.reset_index(drop=True)"
   ]
  },
  {
   "cell_type": "code",
   "execution_count": null,
   "id": "58a2070d-d825-4f05-9076-89340b9db9b8",
   "metadata": {},
   "outputs": [],
   "source": [
    "table_name=\"latency_throughput_gpu.txt\"\n",
    "Model_Type=[]\n",
    "latency=[]\n",
    "throughput=[]\n",
    "duration=[]\n",
    "device=[]\n",
    "\n",
    "with open(table_name,'r') as f:\n",
    "    for line in f:\n",
    "        Model_Type.append(str(line.split(\",\")[0]))\n",
    "        latency.append(float(line.split(\",\")[1]))\n",
    "        throughput.append(float(line.split(\",\")[2]))\n",
    "        duration.append(float(line.split(\",\")[3]))\n",
    "        device.append(str(line.split(\",\")[4]))\n",
    "table_v2=pd.DataFrame({\"model_name\":Model_Type,\"time(second) per email\":latency,\\\n",
    "                    \"# of email per second\":throughput,\"duration\":duration,\"device\":device})\n",
    "table_v2=table_v2.reset_index(drop=True)\n"
   ]
  },
  {
   "cell_type": "code",
   "execution_count": null,
   "id": "ccd58f0d-a8f7-494f-8007-8b88b7171045",
   "metadata": {},
   "outputs": [],
   "source": [
    "table=pd.concat([table_v1, table_v2])\n",
    "table.style.format({\"time(second) per email\":\"{:.4f}\",\"# of email per second\":\"{:.2f}\",\"duration\":\"{:.2f}\",}) "
   ]
  },
  {
   "cell_type": "code",
   "execution_count": null,
   "id": "a7a0e3b0-9ca3-4a31-a7d5-cd20858fab62",
   "metadata": {},
   "outputs": [],
   "source": [
    "table.to_csv(\"latency_df.csv\")"
   ]
  },
  {
   "cell_type": "code",
   "execution_count": null,
   "id": "fe7ff4c8-38e8-41e9-9b0c-c683f46387c6",
   "metadata": {},
   "outputs": [],
   "source": [
    "table_name=\"latency_throughput_cpu.txt\"\n",
    "Model_Type=[]\n",
    "latency=[]\n",
    "throughput=[]\n",
    "duration=[]\n",
    "device=[]\n",
    "\n",
    "with open(table_name,'r') as f:\n",
    "    for line in f:\n",
    "        Model_Type.append(str(line.split(\",\")[0]))\n",
    "        latency.append(float(line.split(\",\")[1]))\n",
    "        throughput.append(float(line.split(\",\")[2]))\n",
    "        duration.append(float(line.split(\",\")[3]))\n",
    "        device.append(str(line.split(\",\")[4]))\n",
    "table=pd.DataFrame({\"model_name\":Model_Type,\"time(second) per email\":latency,\\\n",
    "                    \"# of email per second\":throughput,\"duration\":duration,\"device\":device})\n",
    "table=table.reset_index(drop=True)\n",
    "\n",
    "table.style.format({\"time(second) per email\":\"{:.4f}\",\"# of email per second\":\"{:.2f}\",\"duration\":\"{:.2f}\",}) "
   ]
  },
  {
   "cell_type": "code",
   "execution_count": null,
   "id": "d0cf2fbb-8991-4d49-b0ab-a5bedcc462fe",
   "metadata": {},
   "outputs": [],
   "source": []
  }
 ],
 "metadata": {
  "kernelspec": {
   "display_name": "conda_amazonei_pytorch_latest_p37",
   "language": "python",
   "name": "conda_amazonei_pytorch_latest_p37"
  },
  "language_info": {
   "codemirror_mode": {
    "name": "ipython",
    "version": 3
   },
   "file_extension": ".py",
   "mimetype": "text/x-python",
   "name": "python",
   "nbconvert_exporter": "python",
   "pygments_lexer": "ipython3",
   "version": "3.7.10"
  }
 },
 "nbformat": 4,
 "nbformat_minor": 5
}
