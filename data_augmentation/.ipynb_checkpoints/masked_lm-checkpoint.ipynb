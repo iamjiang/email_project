{
 "cells": [
  {
   "cell_type": "code",
   "execution_count": null,
   "id": "f0937ad7-57d0-49b7-8814-0e251867091b",
   "metadata": {},
   "outputs": [],
   "source": [
    "import os\n",
    "import torch\n",
    "import numpy as np\n",
    "from transformers import AutoTokenizer, AutoConfig, AutoModelForMaskedLM\n",
    "\n",
    "model_name=\"roberta-large\"\n",
    "output_path=model_name.split(\"-\")[0]+\"_\"+model_name.split(\"-\")[1]+\"_\"+\"repo\"\n",
    "model_path=os.path.join(\"/opt/omniai/work/instance1/jupyter/\", \"email-complaints/fine-tune-LM\",output_path)\n",
    "\n",
    "config=AutoConfig.from_pretrained(model_path)\n",
    "tokenizer=AutoTokenizer.from_pretrained(model_path)\n",
    "model=AutoModelForMaskedLM.from_pretrained(model_path)\n",
    "\n",
    "print()\n",
    "print(f\"The maximal # input tokens : {tokenizer.model_max_length:,}\")\n",
    "print(f\"Vocabulary size : {tokenizer.vocab_size:,}\")\n",
    "print(f\"The # of parameters to be updated : {sum([p.nelement() for p in model.parameters() if p.requires_grad==True]):,}\")\n",
    "print()"
   ]
  },
  {
   "cell_type": "code",
   "execution_count": null,
   "id": "6802b2e1-aa90-46ae-b24d-583bc6291efa",
   "metadata": {},
   "outputs": [],
   "source": [
    "from IPython.display import HTML\n",
    "import re\n",
    "import textwrap\n",
    "\n",
    "text=\"\"\"\n",
    "I certainly understand your frustration here. We are working expeditiously to settle this dispute \n",
    "within the confines of the bank’s policies and procedures related to fraudulent claims filed. Let me coordinate with the \n",
    "internal team here to see which of these times work best. This is unacceptable. We were assured that this matter would be resolved when we met on August 4 as were within the 72 hour window of \n",
    "these transactions. I would like to meet with you and your superiors who can resolve this for us and not have my team running around in \n",
    "circles. I am available on Wednesday, August 17 from 4-5pm and on Thursday, August 18 from 9-10am. Please let me know which of these times \n",
    "is convenient for you and your manager to meet with us and I shall set up a Zoom meeting. My work hours may not be yours. \n",
    "Please do not feel obligated to respond outside of your normal work hour\n",
    "\"\"\"\n",
    "wrapper = textwrap.TextWrapper(width=150)\n",
    "display(HTML(wrapper.fill(text)))"
   ]
  },
  {
   "cell_type": "code",
   "execution_count": null,
   "id": "a95e4043-941f-4e3d-8395-3273aeec0a08",
   "metadata": {},
   "outputs": [],
   "source": [
    "keyword=['frustration','expeditiously','confines', 'unacceptable', 'withdrawals', 'dispute', 'resolved','resolve', 'fraudulent','settle','running','obligated']\n",
    "for v in keyword:\n",
    "    text=text.replace(v,'[MASK]')\n",
    "    \n",
    "wrapper = textwrap.TextWrapper(width=150)\n",
    "keyword='[MASK]'\n",
    "color = \"green\"\n",
    "style=\"font-weight:bold;\"\n",
    "\n",
    "highlighted_text = re.sub(r'\\[MASK\\]', f\"<span style='color:{color};{style}'>{keyword}</span>\", text)\n",
    "display(HTML(wrapper.fill(highlighted_text)))"
   ]
  },
  {
   "cell_type": "code",
   "execution_count": null,
   "id": "633819c6-5434-450a-934d-9adb7c2e10a9",
   "metadata": {},
   "outputs": [],
   "source": [
    "text=\"\"\"\n",
    "I certainly understand your frustration here. We are working expeditiously to settle this dispute \n",
    "within the confines of the bank’s policies and procedures related to fraudulent claims filed. Let me coordinate with the \n",
    "internal team here to see which of these times work best. This is unacceptable. We were assured that this matter would be resolved when we met on August 4 as were within the 72 hour window of \n",
    "these transactions. I would like to meet with you and your superiors who can resolve this for us and not have my team running around in \n",
    "circles. I am available on Wednesday, August 17 from 4-5pm and on Thursday, August 18 from 9-10am. Please let me know which of these times \n",
    "is convenient for you and your manager to meet with us and I shall set up a Zoom meeting. My work hours may not be yours. \n",
    "Please do not feel obligated to respond outside of your normal work hour\n",
    "\"\"\"\n",
    "keyword=['frustration','expeditiously','confines', 'unacceptable', 'withdrawals', 'dispute', 'resolved','resolve', 'fraudulent','settle','running','obligated']\n",
    "for v in keyword:\n",
    "    text=text.replace(v,tokenizer.mask_token)\n",
    "print(text)"
   ]
  },
  {
   "cell_type": "code",
   "execution_count": null,
   "id": "4c035a7f-1c50-4b52-971b-737c207faf6b",
   "metadata": {},
   "outputs": [],
   "source": [
    "encoded_text=tokenizer.encode(text,add_special_tokens=False)\n",
    "mask_positions=[i for i,x in enumerate(encoded_text) if x==tokenizer.mask_token_id]"
   ]
  },
  {
   "cell_type": "code",
   "execution_count": null,
   "id": "9646dfa1-06ba-45b6-938f-d5ac6477eb30",
   "metadata": {},
   "outputs": [],
   "source": [
    "%pdb\n",
    "input_ids=encoded_text.copy()\n",
    "for mask_position in mask_positions:\n",
    "    input_ids[mask_position]=tokenizer.mask_token_id\n",
    "    # tokens=tokenizer.convert_ids_to_tokens(input_ids)\n",
    "    # tokens_str=\" \".join(tokens)\n",
    "    # input_ids=torch.tensor([input_ids])\n",
    "    with torch.no_grad():\n",
    "        outputs=model(torch.tensor([input_ids]))\n",
    "        predictions=outputs[0][0][mask_position].topk(5).indices.tolist()\n",
    "        pred=torch.tensor([np.random.choice(predictions)])\n",
    "        # print(mask_position,input_ids[mask_position], pred)\n",
    "        input_ids[mask_position]=pred\n",
    "    \n",
    "    \n",
    "    # predicted_tokens=tokenizer.decode(torch.tensor([np.random.choice(predictions)]))\n",
    "    # tokens_str=tokens_str.replace(tokenizer.mask_token,predicted_token)\n",
    "    \n",
    "print(tokenizer.decode(torch.tensor([input_ids]).squeeze()))"
   ]
  },
  {
   "cell_type": "code",
   "execution_count": null,
   "id": "8da97711-8721-467b-bae5-4b3473637a84",
   "metadata": {},
   "outputs": [],
   "source": []
  },
  {
   "cell_type": "code",
   "execution_count": null,
   "id": "3016d9bc-c789-4a8a-b0a5-72557893fc9a",
   "metadata": {},
   "outputs": [],
   "source": []
  },
  {
   "cell_type": "code",
   "execution_count": null,
   "id": "14c6ac68-bc5e-48be-aca1-207501603840",
   "metadata": {},
   "outputs": [],
   "source": []
  }
 ],
 "metadata": {
  "kernelspec": {
   "display_name": "conda_python3",
   "language": "python",
   "name": "conda_python3"
  },
  "language_info": {
   "codemirror_mode": {
    "name": "ipython",
    "version": 3
   },
   "file_extension": ".py",
   "mimetype": "text/x-python",
   "name": "python",
   "nbconvert_exporter": "python",
   "pygments_lexer": "ipython3",
   "version": "3.10.8"
  }
 },
 "nbformat": 4,
 "nbformat_minor": 5
}
