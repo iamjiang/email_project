{
 "cells": [
  {
   "cell_type": "code",
   "execution_count": null,
   "id": "2a04b37b-4961-45e9-a07e-3715e0a27fd8",
   "metadata": {},
   "outputs": [],
   "source": [
    "import argparse\n",
    "import os\n",
    "import matplotlib.pyplot as plt\n",
    "import numpy as np"
   ]
  },
  {
   "cell_type": "code",
   "execution_count": null,
   "id": "0078ed42-6f50-470c-8792-43ca50bfa44e",
   "metadata": {},
   "outputs": [],
   "source": [
    "parser = argparse.ArgumentParser()\n",
    "parser.add_argument('--model_name', type=str, default=\"catboost\")\n",
    "parser.add_argument('--deduped', action=\"store_true\", help=\"keep most recent thread id or not\")\n",
    "args,_= parser.parse_known_args()\n",
    "print()\n",
    "print(args)\n",
    "print()"
   ]
  },
  {
   "cell_type": "code",
   "execution_count": null,
   "id": "66055e6a-83af-49ac-a3b6-26913f4908a1",
   "metadata": {},
   "outputs": [],
   "source": [
    "def read_output(file_name):\n",
    "    with open(file_name,\"r\") as file:\n",
    "        epochs=[]\n",
    "        train_perplexity=[]\n",
    "        val_perplexity=[]\n",
    "        for line in file:\n",
    "            x,y,z=line.strip().split(',')\n",
    "            epochs.append(int(x))\n",
    "            train_perplexity.append(float(y))\n",
    "            val_perplexity.append(float(z))\n",
    "    return epochs, train_perplexity, val_perplexity"
   ]
  },
  {
   "cell_type": "code",
   "execution_count": null,
   "id": "a8055cde-0b1e-44a9-aaf6-cf3cf9bf6e04",
   "metadata": {},
   "outputs": [],
   "source": [
    "def define_file_name(deduped, model_name):\n",
    "    if deduped:\n",
    "        output_dir=model_name.split(\"-\")[0] + \"_\" + model_name.split(\"-\")[1] + \"_dedup\"\n",
    "    else:\n",
    "        output_dir=model_name.split(\"-\")[0] + \"_\" + model_name.split(\"-\")[1] + \"_repo\"\n",
    "        \n",
    "    file_name=os.path.join(os.getcwd(),output_dir,\"Perplexity.txt\")\n",
    "    return file_name"
   ]
  },
  {
   "cell_type": "code",
   "execution_count": null,
   "id": "c82565f6-288a-45c9-8f8b-17b034298c69",
   "metadata": {},
   "outputs": [],
   "source": [
    "args.deduped=True\n",
    "args.model_name=\"longformer-base\"\n",
    "epochs, _, longformer_base_perplexity=read_output(define_file_name(args.deduped, args.model_name))"
   ]
  },
  {
   "cell_type": "code",
   "execution_count": null,
   "id": "0136f6b4-ef42-4437-a8ca-7167897a64dc",
   "metadata": {},
   "outputs": [],
   "source": [
    "args.deduped=True\n",
    "args.model_name=\"longformer-large\"\n",
    "epochs, _, longformer_large_perplexity=read_output(define_file_name(args.deduped, args.model_name))"
   ]
  },
  {
   "cell_type": "code",
   "execution_count": null,
   "id": "9c633dcc-0728-4278-b5fb-664c0cd2284b",
   "metadata": {},
   "outputs": [],
   "source": [
    "args.deduped=True\n",
    "args.model_name=\"roberta-large\"\n",
    "epochs, _, roberta_large_perplexity=read_output(define_file_name(args.deduped, args.model_name))"
   ]
  },
  {
   "cell_type": "code",
   "execution_count": null,
   "id": "f25cec72-8491-49da-849b-219c86e7372f",
   "metadata": {},
   "outputs": [],
   "source": [
    "args.deduped=True\n",
    "args.model_name=\"bigbird-roberta-large\"\n",
    "epochs, _, bigbird_perplexity=read_output(define_file_name(args.deduped, args.model_name))"
   ]
  },
  {
   "cell_type": "code",
   "execution_count": null,
   "id": "51749e13-4650-4c6b-9274-97c1b1b0d805",
   "metadata": {},
   "outputs": [],
   "source": []
  },
  {
   "cell_type": "code",
   "execution_count": null,
   "id": "73f0e01a-387e-4003-8abf-28814f50225f",
   "metadata": {},
   "outputs": [],
   "source": [
    "fig = plt.figure(figsize=(8, 6))\n",
    "\n",
    "# Plot each model's performance over time as a line chart\n",
    "plt.plot(epochs[:len(roberta_large_perplexity)], roberta_large_perplexity, label='BERT', color='blue', linewidth=2, linestyle='--', marker=\"o\")\n",
    "plt.plot(epochs[:len(longformer_large_perplexity)], longformer_large_perplexity, label='longformer_base', color='red', linewidth=2, linestyle=':', marker=\"s\")\n",
    "plt.plot(epochs[:len(longformer_base_perplexity)], longformer_base_perplexity, label='longformer_large', color='green', linewidth=2, linestyle='-.', marker=\"^\")\n",
    "# plt.plot(epochs[:len(bigbird_perplexity)], bigbird_perplexity, label='BigBird', color='purple', linewidth=2, linestyle='-.')\n",
    "\n",
    "# Set chart title and axis labels\n",
    "plt.title('Perplexity over Epochs',fontsize=18)\n",
    "plt.xlabel('Epoch',fontsize=12)\n",
    "plt.ylabel('Perplexity',fontsize=12)\n",
    "plt.xticks(epochs)\n",
    "# Add a legend to the chart\n",
    "plt.legend()\n",
    "\n",
    "# Display the chart\n",
    "plt.show()"
   ]
  },
  {
   "cell_type": "code",
   "execution_count": null,
   "id": "a5ac4659-028b-4f22-9cea-7533dc5eb412",
   "metadata": {},
   "outputs": [],
   "source": []
  }
 ],
 "metadata": {
  "kernelspec": {
   "display_name": "conda_amazonei_pytorch_latest_p37",
   "language": "python",
   "name": "conda_amazonei_pytorch_latest_p37"
  },
  "language_info": {
   "codemirror_mode": {
    "name": "ipython",
    "version": 3
   },
   "file_extension": ".py",
   "mimetype": "text/x-python",
   "name": "python",
   "nbconvert_exporter": "python",
   "pygments_lexer": "ipython3",
   "version": "3.7.10"
  }
 },
 "nbformat": 4,
 "nbformat_minor": 5
}
